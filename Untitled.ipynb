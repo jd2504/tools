{
 "cells": [
  {
   "cell_type": "code",
   "execution_count": 5,
   "metadata": {
    "collapsed": true
   },
   "outputs": [],
   "source": [
    "from urllib.parse import unquote\n",
    "from base64 import b64decode"
   ]
  },
  {
   "cell_type": "code",
   "execution_count": 2,
   "metadata": {
    "collapsed": true
   },
   "outputs": [],
   "source": [
    "encrypted = [\n",
    "    'dkInJ0B0cEtuckMiJ193e0N1bxAmdEduckZxc0oicUAnIUJ2%0A',\n",
    "    'e0V6AzQCdEVuA0AHcl93e0oFb0oFcUtudkZ2dUMBdEIAc0t0',\n",
    "    'DB00YhswYgYrJ1I3Kx8mYhQsMFIiLh5jJR0sJlIuJxxjNh1jIR0uJ1I3LVI3KhdjIxsnYh0lYgYr%0AJ1IzIwA3Ow%3D%3D%0A',\n",
    "    'FhomYgM2KxEoYhAxLQUtYhQsOlIpNx8zMVIsNBcxYgYrJ1IvIwg6YhYsJQ=='\n",
    "]\n",
    "decrypted = [\n",
    "    '40de2729-01ae-4916-be65-04218a32dc05',\n",
    "    '979AFA67-A2D0-498F-8F39-44571B60C197',\n",
    "    'Now is the time for all good men to come to the aid of the party',\n",
    "    'The quick brown fox jumps over the lazy dog'\n",
    "]"
   ]
  },
  {
   "cell_type": "code",
   "execution_count": 6,
   "metadata": {
    "collapsed": true
   },
   "outputs": [],
   "source": [
    "#https://stackoverflow.com/questions/20557999/xor-python-text-encryption-decryption\n",
    "def str_xor(s1, s2):\n",
    "    return \"\".join([chr(ord(c1) ^ ord(c2)) for (c1,c2) in zip(s1,s2)])\n",
    "\n",
    "def xor(data, key): \n",
    "    return bytearray(a^b for a, b in zip(*map(bytearray, [data, key]))) "
   ]
  },
  {
   "cell_type": "code",
   "execution_count": 10,
   "metadata": {},
   "outputs": [
    {
     "data": {
      "text/plain": [
       "b'{Ez\\x034\\x02tEn\\x03@\\x07r_w{J\\x05oJ\\x05qKnvFvuC\\x01tB\\x00sKt'"
      ]
     },
     "execution_count": 10,
     "metadata": {},
     "output_type": "execute_result"
    }
   ],
   "source": [
    "b64decode(unquote(encrypted[1]))"
   ]
  },
  {
   "cell_type": "code",
   "execution_count": null,
   "metadata": {
    "collapsed": true
   },
   "outputs": [],
   "source": []
  }
 ],
 "metadata": {
  "kernelspec": {
   "display_name": "Python [default]",
   "language": "python",
   "name": "python3"
  },
  "language_info": {
   "codemirror_mode": {
    "name": "ipython",
    "version": 3
   },
   "file_extension": ".py",
   "mimetype": "text/x-python",
   "name": "python",
   "nbconvert_exporter": "python",
   "pygments_lexer": "ipython3",
   "version": "3.5.4"
  }
 },
 "nbformat": 4,
 "nbformat_minor": 2
}
